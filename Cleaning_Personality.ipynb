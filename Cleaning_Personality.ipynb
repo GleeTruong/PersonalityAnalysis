{
 "cells": [
  {
   "cell_type": "markdown",
   "id": "82c0d8a2-ddc1-46bf-9f8d-3253680404b8",
   "metadata": {},
   "source": [
    "## Importing our Library"
   ]
  },
  {
   "cell_type": "code",
   "execution_count": 2,
   "id": "dc79df29-50e0-42d0-a524-cc60892e3225",
   "metadata": {},
   "outputs": [],
   "source": [
    "#Librarires\n",
    "import pandas as pd\n",
    "import numpy as np"
   ]
  },
  {
   "cell_type": "markdown",
   "id": "66ebd0ab-a304-4e3f-a2fc-44e5e9aa7aa0",
   "metadata": {},
   "source": [
    "## Loading our data to a data frame."
   ]
  },
  {
   "cell_type": "code",
   "execution_count": 3,
   "id": "153bd5e7-f6d9-48ce-8841-baae59e729bc",
   "metadata": {},
   "outputs": [
    {
     "data": {
      "text/html": [
       "<div>\n",
       "<style scoped>\n",
       "    .dataframe tbody tr th:only-of-type {\n",
       "        vertical-align: middle;\n",
       "    }\n",
       "\n",
       "    .dataframe tbody tr th {\n",
       "        vertical-align: top;\n",
       "    }\n",
       "\n",
       "    .dataframe thead th {\n",
       "        text-align: right;\n",
       "    }\n",
       "</style>\n",
       "<table border=\"1\" class=\"dataframe\">\n",
       "  <thead>\n",
       "    <tr style=\"text-align: right;\">\n",
       "      <th></th>\n",
       "      <th>ID</th>\n",
       "      <th>Year_Birth</th>\n",
       "      <th>Education</th>\n",
       "      <th>Marital_Status</th>\n",
       "      <th>Income</th>\n",
       "      <th>Kidhome</th>\n",
       "      <th>Teenhome</th>\n",
       "      <th>Dt_Customer</th>\n",
       "      <th>Recency</th>\n",
       "      <th>MntWines</th>\n",
       "      <th>...</th>\n",
       "      <th>NumWebVisitsMonth</th>\n",
       "      <th>AcceptedCmp3</th>\n",
       "      <th>AcceptedCmp4</th>\n",
       "      <th>AcceptedCmp5</th>\n",
       "      <th>AcceptedCmp1</th>\n",
       "      <th>AcceptedCmp2</th>\n",
       "      <th>Complain</th>\n",
       "      <th>Z_CostContact</th>\n",
       "      <th>Z_Revenue</th>\n",
       "      <th>Response</th>\n",
       "    </tr>\n",
       "  </thead>\n",
       "  <tbody>\n",
       "    <tr>\n",
       "      <th>0</th>\n",
       "      <td>5524</td>\n",
       "      <td>1957</td>\n",
       "      <td>Graduation</td>\n",
       "      <td>Single</td>\n",
       "      <td>58138.0</td>\n",
       "      <td>0</td>\n",
       "      <td>0</td>\n",
       "      <td>04-09-2012</td>\n",
       "      <td>58</td>\n",
       "      <td>635</td>\n",
       "      <td>...</td>\n",
       "      <td>7</td>\n",
       "      <td>0</td>\n",
       "      <td>0</td>\n",
       "      <td>0</td>\n",
       "      <td>0</td>\n",
       "      <td>0</td>\n",
       "      <td>0</td>\n",
       "      <td>3</td>\n",
       "      <td>11</td>\n",
       "      <td>1</td>\n",
       "    </tr>\n",
       "    <tr>\n",
       "      <th>1</th>\n",
       "      <td>2174</td>\n",
       "      <td>1954</td>\n",
       "      <td>Graduation</td>\n",
       "      <td>Single</td>\n",
       "      <td>46344.0</td>\n",
       "      <td>1</td>\n",
       "      <td>1</td>\n",
       "      <td>08-03-2014</td>\n",
       "      <td>38</td>\n",
       "      <td>11</td>\n",
       "      <td>...</td>\n",
       "      <td>5</td>\n",
       "      <td>0</td>\n",
       "      <td>0</td>\n",
       "      <td>0</td>\n",
       "      <td>0</td>\n",
       "      <td>0</td>\n",
       "      <td>0</td>\n",
       "      <td>3</td>\n",
       "      <td>11</td>\n",
       "      <td>0</td>\n",
       "    </tr>\n",
       "    <tr>\n",
       "      <th>2</th>\n",
       "      <td>4141</td>\n",
       "      <td>1965</td>\n",
       "      <td>Graduation</td>\n",
       "      <td>Together</td>\n",
       "      <td>71613.0</td>\n",
       "      <td>0</td>\n",
       "      <td>0</td>\n",
       "      <td>21-08-2013</td>\n",
       "      <td>26</td>\n",
       "      <td>426</td>\n",
       "      <td>...</td>\n",
       "      <td>4</td>\n",
       "      <td>0</td>\n",
       "      <td>0</td>\n",
       "      <td>0</td>\n",
       "      <td>0</td>\n",
       "      <td>0</td>\n",
       "      <td>0</td>\n",
       "      <td>3</td>\n",
       "      <td>11</td>\n",
       "      <td>0</td>\n",
       "    </tr>\n",
       "    <tr>\n",
       "      <th>3</th>\n",
       "      <td>6182</td>\n",
       "      <td>1984</td>\n",
       "      <td>Graduation</td>\n",
       "      <td>Together</td>\n",
       "      <td>26646.0</td>\n",
       "      <td>1</td>\n",
       "      <td>0</td>\n",
       "      <td>10-02-2014</td>\n",
       "      <td>26</td>\n",
       "      <td>11</td>\n",
       "      <td>...</td>\n",
       "      <td>6</td>\n",
       "      <td>0</td>\n",
       "      <td>0</td>\n",
       "      <td>0</td>\n",
       "      <td>0</td>\n",
       "      <td>0</td>\n",
       "      <td>0</td>\n",
       "      <td>3</td>\n",
       "      <td>11</td>\n",
       "      <td>0</td>\n",
       "    </tr>\n",
       "    <tr>\n",
       "      <th>4</th>\n",
       "      <td>5324</td>\n",
       "      <td>1981</td>\n",
       "      <td>PhD</td>\n",
       "      <td>Married</td>\n",
       "      <td>58293.0</td>\n",
       "      <td>1</td>\n",
       "      <td>0</td>\n",
       "      <td>19-01-2014</td>\n",
       "      <td>94</td>\n",
       "      <td>173</td>\n",
       "      <td>...</td>\n",
       "      <td>5</td>\n",
       "      <td>0</td>\n",
       "      <td>0</td>\n",
       "      <td>0</td>\n",
       "      <td>0</td>\n",
       "      <td>0</td>\n",
       "      <td>0</td>\n",
       "      <td>3</td>\n",
       "      <td>11</td>\n",
       "      <td>0</td>\n",
       "    </tr>\n",
       "  </tbody>\n",
       "</table>\n",
       "<p>5 rows × 29 columns</p>\n",
       "</div>"
      ],
      "text/plain": [
       "     ID  Year_Birth   Education Marital_Status   Income  Kidhome  Teenhome  \\\n",
       "0  5524        1957  Graduation         Single  58138.0        0         0   \n",
       "1  2174        1954  Graduation         Single  46344.0        1         1   \n",
       "2  4141        1965  Graduation       Together  71613.0        0         0   \n",
       "3  6182        1984  Graduation       Together  26646.0        1         0   \n",
       "4  5324        1981         PhD        Married  58293.0        1         0   \n",
       "\n",
       "  Dt_Customer  Recency  MntWines  ...  NumWebVisitsMonth  AcceptedCmp3  \\\n",
       "0  04-09-2012       58       635  ...                  7             0   \n",
       "1  08-03-2014       38        11  ...                  5             0   \n",
       "2  21-08-2013       26       426  ...                  4             0   \n",
       "3  10-02-2014       26        11  ...                  6             0   \n",
       "4  19-01-2014       94       173  ...                  5             0   \n",
       "\n",
       "   AcceptedCmp4  AcceptedCmp5  AcceptedCmp1  AcceptedCmp2  Complain  \\\n",
       "0             0             0             0             0         0   \n",
       "1             0             0             0             0         0   \n",
       "2             0             0             0             0         0   \n",
       "3             0             0             0             0         0   \n",
       "4             0             0             0             0         0   \n",
       "\n",
       "   Z_CostContact  Z_Revenue  Response  \n",
       "0              3         11         1  \n",
       "1              3         11         0  \n",
       "2              3         11         0  \n",
       "3              3         11         0  \n",
       "4              3         11         0  \n",
       "\n",
       "[5 rows x 29 columns]"
      ]
     },
     "execution_count": 3,
     "metadata": {},
     "output_type": "execute_result"
    }
   ],
   "source": [
    "#Loading the data\n",
    "df = pd.read_csv('marketing_campaign.csv', sep = '\\t')\n",
    "df.head()"
   ]
  },
  {
   "cell_type": "markdown",
   "id": "75d3a3fe-2f37-4473-ae89-f8c27328221a",
   "metadata": {},
   "source": [
    "Checking our dataframe features and types."
   ]
  },
  {
   "cell_type": "code",
   "execution_count": 4,
   "id": "6b614199-e7c1-49c0-8c77-a561f189d0ed",
   "metadata": {
    "tags": []
   },
   "outputs": [
    {
     "name": "stdout",
     "output_type": "stream",
     "text": [
      "<class 'pandas.core.frame.DataFrame'>\n",
      "RangeIndex: 2240 entries, 0 to 2239\n",
      "Data columns (total 29 columns):\n",
      " #   Column               Non-Null Count  Dtype  \n",
      "---  ------               --------------  -----  \n",
      " 0   ID                   2240 non-null   int64  \n",
      " 1   Year_Birth           2240 non-null   int64  \n",
      " 2   Education            2240 non-null   object \n",
      " 3   Marital_Status       2240 non-null   object \n",
      " 4   Income               2216 non-null   float64\n",
      " 5   Kidhome              2240 non-null   int64  \n",
      " 6   Teenhome             2240 non-null   int64  \n",
      " 7   Dt_Customer          2240 non-null   object \n",
      " 8   Recency              2240 non-null   int64  \n",
      " 9   MntWines             2240 non-null   int64  \n",
      " 10  MntFruits            2240 non-null   int64  \n",
      " 11  MntMeatProducts      2240 non-null   int64  \n",
      " 12  MntFishProducts      2240 non-null   int64  \n",
      " 13  MntSweetProducts     2240 non-null   int64  \n",
      " 14  MntGoldProds         2240 non-null   int64  \n",
      " 15  NumDealsPurchases    2240 non-null   int64  \n",
      " 16  NumWebPurchases      2240 non-null   int64  \n",
      " 17  NumCatalogPurchases  2240 non-null   int64  \n",
      " 18  NumStorePurchases    2240 non-null   int64  \n",
      " 19  NumWebVisitsMonth    2240 non-null   int64  \n",
      " 20  AcceptedCmp3         2240 non-null   int64  \n",
      " 21  AcceptedCmp4         2240 non-null   int64  \n",
      " 22  AcceptedCmp5         2240 non-null   int64  \n",
      " 23  AcceptedCmp1         2240 non-null   int64  \n",
      " 24  AcceptedCmp2         2240 non-null   int64  \n",
      " 25  Complain             2240 non-null   int64  \n",
      " 26  Z_CostContact        2240 non-null   int64  \n",
      " 27  Z_Revenue            2240 non-null   int64  \n",
      " 28  Response             2240 non-null   int64  \n",
      "dtypes: float64(1), int64(25), object(3)\n",
      "memory usage: 507.6+ KB\n"
     ]
    }
   ],
   "source": [
    "#Information on the Features\n",
    "df.info()"
   ]
  },
  {
   "cell_type": "markdown",
   "id": "efc055bf-7fa6-4977-be0d-aa27f93cb20c",
   "metadata": {},
   "source": [
    "If we look at the Dt_Customer type we can see that it was an object. We want to change that to a datatime type so if needed later we can use that feature.\n"
   ]
  },
  {
   "cell_type": "code",
   "execution_count": 5,
   "id": "2b5f20c4-5379-4ffd-b0e7-2b1fc3b2683c",
   "metadata": {},
   "outputs": [
    {
     "data": {
      "text/plain": [
       "ID                              int64\n",
       "Year_Birth                      int64\n",
       "Education                      object\n",
       "Marital_Status                 object\n",
       "Income                        float64\n",
       "Kidhome                         int64\n",
       "Teenhome                        int64\n",
       "Dt_Customer            datetime64[ns]\n",
       "Recency                         int64\n",
       "MntWines                        int64\n",
       "MntFruits                       int64\n",
       "MntMeatProducts                 int64\n",
       "MntFishProducts                 int64\n",
       "MntSweetProducts                int64\n",
       "MntGoldProds                    int64\n",
       "NumDealsPurchases               int64\n",
       "NumWebPurchases                 int64\n",
       "NumCatalogPurchases             int64\n",
       "NumStorePurchases               int64\n",
       "NumWebVisitsMonth               int64\n",
       "AcceptedCmp3                    int64\n",
       "AcceptedCmp4                    int64\n",
       "AcceptedCmp5                    int64\n",
       "AcceptedCmp1                    int64\n",
       "AcceptedCmp2                    int64\n",
       "Complain                        int64\n",
       "Z_CostContact                   int64\n",
       "Z_Revenue                       int64\n",
       "Response                        int64\n",
       "dtype: object"
      ]
     },
     "execution_count": 5,
     "metadata": {},
     "output_type": "execute_result"
    }
   ],
   "source": [
    "#Converting DT_customer to Date\n",
    "df['Dt_Customer'] = pd.to_datetime(df['Dt_Customer'])\n",
    "df.dtypes"
   ]
  },
  {
   "cell_type": "markdown",
   "id": "b94deb9b-215e-4715-9d5d-1a79a688f891",
   "metadata": {},
   "source": [
    "## Checking for Null Values\n",
    "Notice how we have 24 null values in the Income features.\n",
    "We will remove that from the data frame, because income will be our main scope in this analysis."
   ]
  },
  {
   "cell_type": "code",
   "execution_count": 6,
   "id": "0bad7ea9-cb2d-4bb8-a3f6-5598bd8a7add",
   "metadata": {},
   "outputs": [
    {
     "data": {
      "text/plain": [
       "ID                      0\n",
       "Year_Birth              0\n",
       "Education               0\n",
       "Marital_Status          0\n",
       "Income                 24\n",
       "Kidhome                 0\n",
       "Teenhome                0\n",
       "Dt_Customer             0\n",
       "Recency                 0\n",
       "MntWines                0\n",
       "MntFruits               0\n",
       "MntMeatProducts         0\n",
       "MntFishProducts         0\n",
       "MntSweetProducts        0\n",
       "MntGoldProds            0\n",
       "NumDealsPurchases       0\n",
       "NumWebPurchases         0\n",
       "NumCatalogPurchases     0\n",
       "NumStorePurchases       0\n",
       "NumWebVisitsMonth       0\n",
       "AcceptedCmp3            0\n",
       "AcceptedCmp4            0\n",
       "AcceptedCmp5            0\n",
       "AcceptedCmp1            0\n",
       "AcceptedCmp2            0\n",
       "Complain                0\n",
       "Z_CostContact           0\n",
       "Z_Revenue               0\n",
       "Response                0\n",
       "dtype: int64"
      ]
     },
     "execution_count": 6,
     "metadata": {},
     "output_type": "execute_result"
    }
   ],
   "source": [
    "df.isnull().sum()"
   ]
  },
  {
   "cell_type": "markdown",
   "id": "9d68321d-4f7c-4682-862a-a8c230790298",
   "metadata": {},
   "source": [
    "After dropping the data we will sum up the isnull feature again and here we can see that the data has no missing data anymore."
   ]
  },
  {
   "cell_type": "code",
   "execution_count": 7,
   "id": "41a93aef-0809-44e7-9935-82af7928e238",
   "metadata": {},
   "outputs": [
    {
     "data": {
      "text/plain": [
       "ID                     0\n",
       "Year_Birth             0\n",
       "Education              0\n",
       "Marital_Status         0\n",
       "Income                 0\n",
       "Kidhome                0\n",
       "Teenhome               0\n",
       "Dt_Customer            0\n",
       "Recency                0\n",
       "MntWines               0\n",
       "MntFruits              0\n",
       "MntMeatProducts        0\n",
       "MntFishProducts        0\n",
       "MntSweetProducts       0\n",
       "MntGoldProds           0\n",
       "NumDealsPurchases      0\n",
       "NumWebPurchases        0\n",
       "NumCatalogPurchases    0\n",
       "NumStorePurchases      0\n",
       "NumWebVisitsMonth      0\n",
       "AcceptedCmp3           0\n",
       "AcceptedCmp4           0\n",
       "AcceptedCmp5           0\n",
       "AcceptedCmp1           0\n",
       "AcceptedCmp2           0\n",
       "Complain               0\n",
       "Z_CostContact          0\n",
       "Z_Revenue              0\n",
       "Response               0\n",
       "dtype: int64"
      ]
     },
     "execution_count": 7,
     "metadata": {},
     "output_type": "execute_result"
    }
   ],
   "source": [
    "#Dropping the NA values\n",
    "df = df.dropna()\n",
    "df.isnull().sum()"
   ]
  },
  {
   "cell_type": "markdown",
   "id": "373eca37-09e5-489d-bf86-6d1a05b0ccca",
   "metadata": {},
   "source": [
    "If we look at the previous Dt_Customer type we can see that it was an object. We want to change that to a datatime type so if needed later we can use that feature."
   ]
  },
  {
   "cell_type": "markdown",
   "id": "8cb082a5-b208-470c-8ed1-68447c2d97e6",
   "metadata": {},
   "source": [
    "## Next, let's look at Marital Status."
   ]
  },
  {
   "cell_type": "code",
   "execution_count": 9,
   "id": "deeb390f-7e22-43fe-8f86-c577ea676a73",
   "metadata": {},
   "outputs": [
    {
     "data": {
      "text/plain": [
       "Married     857\n",
       "Together    573\n",
       "Single      471\n",
       "Divorced    232\n",
       "Widow        76\n",
       "Alone         3\n",
       "Absurd        2\n",
       "YOLO          2\n",
       "Name: Marital_Status, dtype: int64"
      ]
     },
     "execution_count": 9,
     "metadata": {},
     "output_type": "execute_result"
    }
   ],
   "source": [
    "#Counting the values in Marital Status\n",
    "df['Marital_Status'].value_counts()"
   ]
  },
  {
   "cell_type": "markdown",
   "id": "26461a43-5591-49c0-9e2a-eee02b6f541b",
   "metadata": {},
   "source": [
    "Here we can see that we have a lot of different answers and a few miscellaneous answers.\n",
    "Lets fix this up. Here we will change the values to: Single and Partner. Then put it under a new column named LivingStatus.\n",
    "* We will label Single, Divorced, Widow, Alone, Absurd, and Yolo as Single.\n",
    "* Then Married and Together as Partner."
   ]
  },
  {
   "cell_type": "code",
   "execution_count": 10,
   "id": "31c27514-e353-4afb-8714-f20002c377b1",
   "metadata": {},
   "outputs": [
    {
     "data": {
      "text/plain": [
       "Partner    1430\n",
       "Single      786\n",
       "Name: LivingStatus, dtype: int64"
      ]
     },
     "execution_count": 10,
     "metadata": {},
     "output_type": "execute_result"
    }
   ],
   "source": [
    "#Notice how we have different responses. Let's make this more diverse and egalitarian\n",
    "df['LivingStatus'] = df['Marital_Status'].replace({'Married':'Partner', 'Together':'Partner', 'Single':'Single', 'Divorced':'Single', 'Widow':'Single',\n",
    "                                                     'Alone':'Single' ,'Absurd':'Single', 'YOLO':'Single'})\n",
    "df['LivingStatus'].value_counts()"
   ]
  },
  {
   "cell_type": "markdown",
   "id": "20507793-43fd-4899-beac-f5fa917789b5",
   "metadata": {},
   "source": [
    "We will do the same for Education. This time we will just replace the column with Undergrad, Graduated, Postgrad."
   ]
  },
  {
   "cell_type": "code",
   "execution_count": 11,
   "id": "8bc42b28-5c2c-4be4-a2dd-ee4f9c09d166",
   "metadata": {},
   "outputs": [
    {
     "data": {
      "text/plain": [
       "Graduation    1116\n",
       "PhD            481\n",
       "Master         365\n",
       "2n Cycle       200\n",
       "Basic           54\n",
       "Name: Education, dtype: int64"
      ]
     },
     "execution_count": 11,
     "metadata": {},
     "output_type": "execute_result"
    }
   ],
   "source": [
    "#Education looks clean so we will leave that a lone.\n",
    "df['Education'].value_counts()"
   ]
  },
  {
   "cell_type": "code",
   "execution_count": 13,
   "id": "5d6007f2-2814-44c2-9d8c-58a27c007ebf",
   "metadata": {},
   "outputs": [
    {
     "data": {
      "text/plain": [
       "Graduated    1116\n",
       "Postgrad      846\n",
       "Undergrad     254\n",
       "Name: Education, dtype: int64"
      ]
     },
     "execution_count": 13,
     "metadata": {},
     "output_type": "execute_result"
    }
   ],
   "source": [
    "#Changing Education Status to Undergrad, Graduate, Postgrad\n",
    "df[\"Education\"]=df[\"Education\"].replace({'Graduation':'Graduated', 'PhD':'Postgrad', 'Master':'Postgrad',\n",
    "                                         '2n Cycle':'Undergrad', 'Basic':'Undergrad',})\n",
    "df['Education'].value_counts()"
   ]
  },
  {
   "cell_type": "markdown",
   "id": "e48bbf53-ebae-454a-b28c-ce6f1d1ed173",
   "metadata": {},
   "source": [
    "Here we are going to create a new feature called Age. With this we are going to just get the customers numeric age so we don't have to calculate it ourself. We still want to keep the Year_Birth if we want to use it later as a group to find if there are certain trends in a specific period."
   ]
  },
  {
   "cell_type": "code",
   "execution_count": 14,
   "id": "af59ef0c-6b68-4a7c-84a0-d4b4e49e6500",
   "metadata": {},
   "outputs": [
    {
     "data": {
      "text/plain": [
       "0       64\n",
       "1       67\n",
       "2       56\n",
       "3       37\n",
       "4       40\n",
       "        ..\n",
       "2235    54\n",
       "2236    75\n",
       "2237    40\n",
       "2238    65\n",
       "2239    67\n",
       "Name: Age, Length: 2216, dtype: int64"
      ]
     },
     "execution_count": 14,
     "metadata": {},
     "output_type": "execute_result"
    }
   ],
   "source": [
    "#Converting Year_Birth to today Age\n",
    "df['Age'] = 2021 - df['Year_Birth']\n",
    "df['Age']"
   ]
  },
  {
   "cell_type": "markdown",
   "id": "214ae548-72e2-47f7-b7c6-15a505eab4f7",
   "metadata": {},
   "source": [
    "If we go back to the kaggle site where the data came from we can see that these were the amount the customer spent on certain products. Here we are just going to rename for clarification."
   ]
  },
  {
   "cell_type": "code",
   "execution_count": 15,
   "id": "3f5ffa30-61f8-4e65-86eb-ca5e97a3b4ef",
   "metadata": {},
   "outputs": [],
   "source": [
    "#Renaming the data for clarity. These columns are amounts ordered in 2 years\n",
    "df = df.rename(columns = {'MntWines':'Wines', 'MntFruits':'Fruits', 'MntMeatProducts':'Meat', 'MntFishProducts':'Fish',\n",
    "                          'MntSweetProducts':'Sweets', 'MntGoldProds':'Gold'})"
   ]
  },
  {
   "cell_type": "markdown",
   "id": "ea7c5644-32fb-4604-a647-1b5a86d26f39",
   "metadata": {},
   "source": [
    "Now we can take the renamed features and add the value together to get a total spend in 2 years."
   ]
  },
  {
   "cell_type": "code",
   "execution_count": 17,
   "id": "a17c9153-b8ba-46fc-bcb7-e9b2875e3e6f",
   "metadata": {},
   "outputs": [],
   "source": [
    "#Getting a total amount ordered in 2 years\n",
    "df['TotalSpent'] = df['Wines']+df['Fruits']+df['Meat']+df['Fish']+df['Sweets']+df['Gold']"
   ]
  },
  {
   "cell_type": "markdown",
   "id": "f895568e-3f35-4c8e-8dea-b0be76efd16c",
   "metadata": {},
   "source": [
    "Gathering the house hold size\n",
    "1. First off we are going to combined kidhome and teenhome to create a feature called Children.\n",
    "2. Then add the parents to the family to get a total count.\n",
    "3. Lastly we will seperate the adults to find out if they do have children or not."
   ]
  },
  {
   "cell_type": "code",
   "execution_count": 18,
   "id": "221e8451-36f6-4cc0-b1bf-e93d26863018",
   "metadata": {},
   "outputs": [],
   "source": [
    "#Combining Kidhome and Teenhome as children\n",
    "df['Children'] = df['Kidhome']+df['Teenhome']"
   ]
  },
  {
   "cell_type": "code",
   "execution_count": 19,
   "id": "256f110a-4d54-4228-b7d8-2c440d32e6dd",
   "metadata": {},
   "outputs": [
    {
     "data": {
      "text/plain": [
       "0       1\n",
       "1       3\n",
       "2       2\n",
       "3       3\n",
       "4       3\n",
       "       ..\n",
       "2235    3\n",
       "2236    5\n",
       "2237    1\n",
       "2238    3\n",
       "2239    4\n",
       "Name: FamilySize, Length: 2216, dtype: int64"
      ]
     },
     "execution_count": 19,
     "metadata": {},
     "output_type": "execute_result"
    }
   ],
   "source": [
    "#Creating a column for the size of the family.\n",
    "df['FamilySize']= df['LivingStatus'].replace({'Single':1, 'Partner':2}) + df['Children']\n",
    "df['FamilySize']"
   ]
  },
  {
   "cell_type": "code",
   "execution_count": 20,
   "id": "dde36681-7948-4829-b082-fef7440dba6e",
   "metadata": {},
   "outputs": [
    {
     "data": {
      "text/plain": [
       "1    1583\n",
       "0     633\n",
       "Name: Parents, dtype: int64"
      ]
     },
     "execution_count": 20,
     "metadata": {},
     "output_type": "execute_result"
    }
   ],
   "source": [
    "#Finding if they are Parents and putting into one hots.\n",
    "df['Parents'] = np.where(df.Children > 0,1,0)\n",
    "df['Parents'].value_counts()"
   ]
  },
  {
   "cell_type": "markdown",
   "id": "3cff4e53-a135-418b-a052-a556e409dacb",
   "metadata": {},
   "source": [
    "Dropping Redundant Features/Columns\n",
    "We are dropping  ZRevenue and ZCostContact have the same value and has no significate for our data.\n",
    "Also droping Accepted Promotion, complain, response."
   ]
  },
  {
   "cell_type": "code",
   "execution_count": 21,
   "id": "a1124b88-a858-4201-b08c-64345c159d52",
   "metadata": {},
   "outputs": [],
   "source": [
    "drop = ['Year_Birth','Marital_Status','ID','Z_CostContact','Z_Revenue', 'AcceptedCmp1', 'AcceptedCmp2', 'AcceptedCmp3', 'AcceptedCmp4', 'AcceptedCmp5', 'Complain', 'Response', 'Dt_Customer']\n",
    "df= df.drop(drop, axis =1)\n"
   ]
  },
  {
   "cell_type": "code",
   "execution_count": 22,
   "id": "fcf86ae8-f176-43b6-ad9d-9ff737580a16",
   "metadata": {},
   "outputs": [
    {
     "data": {
      "text/html": [
       "<div>\n",
       "<style scoped>\n",
       "    .dataframe tbody tr th:only-of-type {\n",
       "        vertical-align: middle;\n",
       "    }\n",
       "\n",
       "    .dataframe tbody tr th {\n",
       "        vertical-align: top;\n",
       "    }\n",
       "\n",
       "    .dataframe thead th {\n",
       "        text-align: right;\n",
       "    }\n",
       "</style>\n",
       "<table border=\"1\" class=\"dataframe\">\n",
       "  <thead>\n",
       "    <tr style=\"text-align: right;\">\n",
       "      <th></th>\n",
       "      <th>Education</th>\n",
       "      <th>Income</th>\n",
       "      <th>Kidhome</th>\n",
       "      <th>Teenhome</th>\n",
       "      <th>Recency</th>\n",
       "      <th>Wines</th>\n",
       "      <th>Fruits</th>\n",
       "      <th>Meat</th>\n",
       "      <th>Fish</th>\n",
       "      <th>Sweets</th>\n",
       "      <th>...</th>\n",
       "      <th>NumWebPurchases</th>\n",
       "      <th>NumCatalogPurchases</th>\n",
       "      <th>NumStorePurchases</th>\n",
       "      <th>NumWebVisitsMonth</th>\n",
       "      <th>LivingStatus</th>\n",
       "      <th>Age</th>\n",
       "      <th>TotalSpent</th>\n",
       "      <th>Children</th>\n",
       "      <th>FamilySize</th>\n",
       "      <th>Parents</th>\n",
       "    </tr>\n",
       "  </thead>\n",
       "  <tbody>\n",
       "    <tr>\n",
       "      <th>0</th>\n",
       "      <td>Graduated</td>\n",
       "      <td>58138.0</td>\n",
       "      <td>0</td>\n",
       "      <td>0</td>\n",
       "      <td>58</td>\n",
       "      <td>635</td>\n",
       "      <td>88</td>\n",
       "      <td>546</td>\n",
       "      <td>172</td>\n",
       "      <td>88</td>\n",
       "      <td>...</td>\n",
       "      <td>8</td>\n",
       "      <td>10</td>\n",
       "      <td>4</td>\n",
       "      <td>7</td>\n",
       "      <td>Single</td>\n",
       "      <td>64</td>\n",
       "      <td>1617</td>\n",
       "      <td>0</td>\n",
       "      <td>1</td>\n",
       "      <td>0</td>\n",
       "    </tr>\n",
       "    <tr>\n",
       "      <th>1</th>\n",
       "      <td>Graduated</td>\n",
       "      <td>46344.0</td>\n",
       "      <td>1</td>\n",
       "      <td>1</td>\n",
       "      <td>38</td>\n",
       "      <td>11</td>\n",
       "      <td>1</td>\n",
       "      <td>6</td>\n",
       "      <td>2</td>\n",
       "      <td>1</td>\n",
       "      <td>...</td>\n",
       "      <td>1</td>\n",
       "      <td>1</td>\n",
       "      <td>2</td>\n",
       "      <td>5</td>\n",
       "      <td>Single</td>\n",
       "      <td>67</td>\n",
       "      <td>27</td>\n",
       "      <td>2</td>\n",
       "      <td>3</td>\n",
       "      <td>1</td>\n",
       "    </tr>\n",
       "    <tr>\n",
       "      <th>2</th>\n",
       "      <td>Graduated</td>\n",
       "      <td>71613.0</td>\n",
       "      <td>0</td>\n",
       "      <td>0</td>\n",
       "      <td>26</td>\n",
       "      <td>426</td>\n",
       "      <td>49</td>\n",
       "      <td>127</td>\n",
       "      <td>111</td>\n",
       "      <td>21</td>\n",
       "      <td>...</td>\n",
       "      <td>8</td>\n",
       "      <td>2</td>\n",
       "      <td>10</td>\n",
       "      <td>4</td>\n",
       "      <td>Partner</td>\n",
       "      <td>56</td>\n",
       "      <td>776</td>\n",
       "      <td>0</td>\n",
       "      <td>2</td>\n",
       "      <td>0</td>\n",
       "    </tr>\n",
       "    <tr>\n",
       "      <th>3</th>\n",
       "      <td>Graduated</td>\n",
       "      <td>26646.0</td>\n",
       "      <td>1</td>\n",
       "      <td>0</td>\n",
       "      <td>26</td>\n",
       "      <td>11</td>\n",
       "      <td>4</td>\n",
       "      <td>20</td>\n",
       "      <td>10</td>\n",
       "      <td>3</td>\n",
       "      <td>...</td>\n",
       "      <td>2</td>\n",
       "      <td>0</td>\n",
       "      <td>4</td>\n",
       "      <td>6</td>\n",
       "      <td>Partner</td>\n",
       "      <td>37</td>\n",
       "      <td>53</td>\n",
       "      <td>1</td>\n",
       "      <td>3</td>\n",
       "      <td>1</td>\n",
       "    </tr>\n",
       "    <tr>\n",
       "      <th>4</th>\n",
       "      <td>Postgrad</td>\n",
       "      <td>58293.0</td>\n",
       "      <td>1</td>\n",
       "      <td>0</td>\n",
       "      <td>94</td>\n",
       "      <td>173</td>\n",
       "      <td>43</td>\n",
       "      <td>118</td>\n",
       "      <td>46</td>\n",
       "      <td>27</td>\n",
       "      <td>...</td>\n",
       "      <td>5</td>\n",
       "      <td>3</td>\n",
       "      <td>6</td>\n",
       "      <td>5</td>\n",
       "      <td>Partner</td>\n",
       "      <td>40</td>\n",
       "      <td>422</td>\n",
       "      <td>1</td>\n",
       "      <td>3</td>\n",
       "      <td>1</td>\n",
       "    </tr>\n",
       "    <tr>\n",
       "      <th>...</th>\n",
       "      <td>...</td>\n",
       "      <td>...</td>\n",
       "      <td>...</td>\n",
       "      <td>...</td>\n",
       "      <td>...</td>\n",
       "      <td>...</td>\n",
       "      <td>...</td>\n",
       "      <td>...</td>\n",
       "      <td>...</td>\n",
       "      <td>...</td>\n",
       "      <td>...</td>\n",
       "      <td>...</td>\n",
       "      <td>...</td>\n",
       "      <td>...</td>\n",
       "      <td>...</td>\n",
       "      <td>...</td>\n",
       "      <td>...</td>\n",
       "      <td>...</td>\n",
       "      <td>...</td>\n",
       "      <td>...</td>\n",
       "      <td>...</td>\n",
       "    </tr>\n",
       "    <tr>\n",
       "      <th>2235</th>\n",
       "      <td>Graduated</td>\n",
       "      <td>61223.0</td>\n",
       "      <td>0</td>\n",
       "      <td>1</td>\n",
       "      <td>46</td>\n",
       "      <td>709</td>\n",
       "      <td>43</td>\n",
       "      <td>182</td>\n",
       "      <td>42</td>\n",
       "      <td>118</td>\n",
       "      <td>...</td>\n",
       "      <td>9</td>\n",
       "      <td>3</td>\n",
       "      <td>4</td>\n",
       "      <td>5</td>\n",
       "      <td>Partner</td>\n",
       "      <td>54</td>\n",
       "      <td>1341</td>\n",
       "      <td>1</td>\n",
       "      <td>3</td>\n",
       "      <td>1</td>\n",
       "    </tr>\n",
       "    <tr>\n",
       "      <th>2236</th>\n",
       "      <td>Postgrad</td>\n",
       "      <td>64014.0</td>\n",
       "      <td>2</td>\n",
       "      <td>1</td>\n",
       "      <td>56</td>\n",
       "      <td>406</td>\n",
       "      <td>0</td>\n",
       "      <td>30</td>\n",
       "      <td>0</td>\n",
       "      <td>0</td>\n",
       "      <td>...</td>\n",
       "      <td>8</td>\n",
       "      <td>2</td>\n",
       "      <td>5</td>\n",
       "      <td>7</td>\n",
       "      <td>Partner</td>\n",
       "      <td>75</td>\n",
       "      <td>444</td>\n",
       "      <td>3</td>\n",
       "      <td>5</td>\n",
       "      <td>1</td>\n",
       "    </tr>\n",
       "    <tr>\n",
       "      <th>2237</th>\n",
       "      <td>Graduated</td>\n",
       "      <td>56981.0</td>\n",
       "      <td>0</td>\n",
       "      <td>0</td>\n",
       "      <td>91</td>\n",
       "      <td>908</td>\n",
       "      <td>48</td>\n",
       "      <td>217</td>\n",
       "      <td>32</td>\n",
       "      <td>12</td>\n",
       "      <td>...</td>\n",
       "      <td>2</td>\n",
       "      <td>3</td>\n",
       "      <td>13</td>\n",
       "      <td>6</td>\n",
       "      <td>Single</td>\n",
       "      <td>40</td>\n",
       "      <td>1241</td>\n",
       "      <td>0</td>\n",
       "      <td>1</td>\n",
       "      <td>0</td>\n",
       "    </tr>\n",
       "    <tr>\n",
       "      <th>2238</th>\n",
       "      <td>Postgrad</td>\n",
       "      <td>69245.0</td>\n",
       "      <td>0</td>\n",
       "      <td>1</td>\n",
       "      <td>8</td>\n",
       "      <td>428</td>\n",
       "      <td>30</td>\n",
       "      <td>214</td>\n",
       "      <td>80</td>\n",
       "      <td>30</td>\n",
       "      <td>...</td>\n",
       "      <td>6</td>\n",
       "      <td>5</td>\n",
       "      <td>10</td>\n",
       "      <td>3</td>\n",
       "      <td>Partner</td>\n",
       "      <td>65</td>\n",
       "      <td>843</td>\n",
       "      <td>1</td>\n",
       "      <td>3</td>\n",
       "      <td>1</td>\n",
       "    </tr>\n",
       "    <tr>\n",
       "      <th>2239</th>\n",
       "      <td>Postgrad</td>\n",
       "      <td>52869.0</td>\n",
       "      <td>1</td>\n",
       "      <td>1</td>\n",
       "      <td>40</td>\n",
       "      <td>84</td>\n",
       "      <td>3</td>\n",
       "      <td>61</td>\n",
       "      <td>2</td>\n",
       "      <td>1</td>\n",
       "      <td>...</td>\n",
       "      <td>3</td>\n",
       "      <td>1</td>\n",
       "      <td>4</td>\n",
       "      <td>7</td>\n",
       "      <td>Partner</td>\n",
       "      <td>67</td>\n",
       "      <td>172</td>\n",
       "      <td>2</td>\n",
       "      <td>4</td>\n",
       "      <td>1</td>\n",
       "    </tr>\n",
       "  </tbody>\n",
       "</table>\n",
       "<p>2216 rows × 22 columns</p>\n",
       "</div>"
      ],
      "text/plain": [
       "      Education   Income  Kidhome  Teenhome  Recency  Wines  Fruits  Meat  \\\n",
       "0     Graduated  58138.0        0         0       58    635      88   546   \n",
       "1     Graduated  46344.0        1         1       38     11       1     6   \n",
       "2     Graduated  71613.0        0         0       26    426      49   127   \n",
       "3     Graduated  26646.0        1         0       26     11       4    20   \n",
       "4      Postgrad  58293.0        1         0       94    173      43   118   \n",
       "...         ...      ...      ...       ...      ...    ...     ...   ...   \n",
       "2235  Graduated  61223.0        0         1       46    709      43   182   \n",
       "2236   Postgrad  64014.0        2         1       56    406       0    30   \n",
       "2237  Graduated  56981.0        0         0       91    908      48   217   \n",
       "2238   Postgrad  69245.0        0         1        8    428      30   214   \n",
       "2239   Postgrad  52869.0        1         1       40     84       3    61   \n",
       "\n",
       "      Fish  Sweets  ...  NumWebPurchases  NumCatalogPurchases  \\\n",
       "0      172      88  ...                8                   10   \n",
       "1        2       1  ...                1                    1   \n",
       "2      111      21  ...                8                    2   \n",
       "3       10       3  ...                2                    0   \n",
       "4       46      27  ...                5                    3   \n",
       "...    ...     ...  ...              ...                  ...   \n",
       "2235    42     118  ...                9                    3   \n",
       "2236     0       0  ...                8                    2   \n",
       "2237    32      12  ...                2                    3   \n",
       "2238    80      30  ...                6                    5   \n",
       "2239     2       1  ...                3                    1   \n",
       "\n",
       "      NumStorePurchases  NumWebVisitsMonth  LivingStatus  Age TotalSpent  \\\n",
       "0                     4                  7        Single   64       1617   \n",
       "1                     2                  5        Single   67         27   \n",
       "2                    10                  4       Partner   56        776   \n",
       "3                     4                  6       Partner   37         53   \n",
       "4                     6                  5       Partner   40        422   \n",
       "...                 ...                ...           ...  ...        ...   \n",
       "2235                  4                  5       Partner   54       1341   \n",
       "2236                  5                  7       Partner   75        444   \n",
       "2237                 13                  6        Single   40       1241   \n",
       "2238                 10                  3       Partner   65        843   \n",
       "2239                  4                  7       Partner   67        172   \n",
       "\n",
       "      Children  FamilySize  Parents  \n",
       "0            0           1        0  \n",
       "1            2           3        1  \n",
       "2            0           2        0  \n",
       "3            1           3        1  \n",
       "4            1           3        1  \n",
       "...        ...         ...      ...  \n",
       "2235         1           3        1  \n",
       "2236         3           5        1  \n",
       "2237         0           1        0  \n",
       "2238         1           3        1  \n",
       "2239         2           4        1  \n",
       "\n",
       "[2216 rows x 22 columns]"
      ]
     },
     "execution_count": 22,
     "metadata": {},
     "output_type": "execute_result"
    }
   ],
   "source": [
    "df"
   ]
  },
  {
   "cell_type": "code",
   "execution_count": 23,
   "id": "573b3a00-fda3-4f6b-a5a9-9077d8372ff3",
   "metadata": {},
   "outputs": [],
   "source": [
    "df.to_csv('CleanPA.csv', index=False)"
   ]
  },
  {
   "cell_type": "code",
   "execution_count": null,
   "id": "57c0405b-fc84-41f2-8d97-443bb0d97ec7",
   "metadata": {},
   "outputs": [],
   "source": []
  }
 ],
 "metadata": {
  "kernelspec": {
   "display_name": "Python 3 (ipykernel)",
   "language": "python",
   "name": "python3"
  },
  "language_info": {
   "codemirror_mode": {
    "name": "ipython",
    "version": 3
   },
   "file_extension": ".py",
   "mimetype": "text/x-python",
   "name": "python",
   "nbconvert_exporter": "python",
   "pygments_lexer": "ipython3",
   "version": "3.8.12"
  }
 },
 "nbformat": 4,
 "nbformat_minor": 5
}
